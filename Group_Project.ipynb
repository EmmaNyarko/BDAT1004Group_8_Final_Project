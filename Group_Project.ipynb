{
 "cells": [
  {
   "cell_type": "code",
   "execution_count": 11,
   "id": "6f7ce0b3",
   "metadata": {},
   "outputs": [
    {
     "data": {
      "text/html": [
       "\n",
       "        <iframe\n",
       "            width=\"100%\"\n",
       "            height=\"650\"\n",
       "            src=\"http://127.0.0.1:8050/\"\n",
       "            frameborder=\"0\"\n",
       "            allowfullscreen\n",
       "            \n",
       "        ></iframe>\n",
       "        "
      ],
      "text/plain": [
       "<IPython.lib.display.IFrame at 0x2a0e3b67390>"
      ]
     },
     "metadata": {},
     "output_type": "display_data"
    },
    {
     "name": "stdout",
     "output_type": "stream",
     "text": [
      "Fetched DataFrame:         country                 timeline  latest_coverage\n",
      "41        China  {'8/15/24': 3491077000}       3491077000\n",
      "90        India  {'8/15/24': 2206868000}       2206868000\n",
      "207         USA   {'8/15/24': 676728782}        676728782\n",
      "27       Brazil   {'8/15/24': 486436436}        486436436\n",
      "91    Indonesia   {'8/15/24': 448199860}        448199860\n",
      "99        Japan   {'8/15/24': 383747738}        383747738\n",
      "15   Bangladesh   {'8/15/24': 361742554}        361742554\n",
      "147    Pakistan   {'8/15/24': 340974144}        340974144\n",
      "212     Vietnam   {'8/15/24': 266492149}        266492149\n",
      "125      Mexico   {'8/15/24': 223158993}        223158993\n"
     ]
    }
   ],
   "source": [
    "import dash\n",
    "from dash import html, dcc, Input, Output, dash_table\n",
    "import pandas as pd\n",
    "import plotly.express as px\n",
    "import requests\n",
    "\n",
    "# Define Layout of App\n",
    "external_stylesheets = ['https://codepen.io/chriddyp/pen/bWLwgP.css']\n",
    "app = dash.Dash(__name__, external_stylesheets=external_stylesheets, suppress_callback_exceptions=True)\n",
    "\n",
    "app.layout = html.Div([\n",
    "    html.H1('COVID-19 Vaccine Coverage by Country', style={'textAlign': 'center'}),\n",
    "    dcc.Interval(id='interval_db', interval=86400000 * 7, n_intervals=0),\n",
    "    html.Div(id='dashboard-content', children=[\n",
    "        html.Div(id='mongo-datatable', className='twelve columns'),\n",
    "        html.Div(id='bar-graph', className='twelve columns'),\n",
    "    ], className='row')\n",
    "])\n",
    "\n",
    "def fetch_data():\n",
    "    r = requests.get(\"https://disease.sh/v3/covid-19/vaccine/coverage/countries?lastdays=1\")\n",
    "    data = r.json()\n",
    "\n",
    "    # Transform the data into a DataFrame\n",
    "    df = pd.DataFrame(data)\n",
    "    \n",
    "    # Extract the last day of vaccine coverage\n",
    "    df['latest_coverage'] = df['timeline'].apply(lambda x: list(x.values())[0])\n",
    "    \n",
    "    # Sort and take the top 10 countries by vaccine coverage\n",
    "    df = df.sort_values(by='latest_coverage', ascending=False).head(10)\n",
    "    \n",
    "    return df\n",
    "\n",
    "@app.callback(\n",
    "    Output('mongo-datatable', 'children'),\n",
    "    Output('bar-graph', 'children'),\n",
    "    Input('interval_db', 'n_intervals')\n",
    ")\n",
    "def update_dashboard(n_intervals):\n",
    "    df = fetch_data()\n",
    "    print(\"Fetched DataFrame:\", df)  # Debug print\n",
    "    \n",
    "    table = dash_table.DataTable(\n",
    "        id='our-table',\n",
    "        data=df.to_dict('records'),\n",
    "        columns=[{'id': c, 'name': c} for c in df.columns],\n",
    "        style_table={'overflowX': 'auto'},\n",
    "    )\n",
    "    \n",
    "    bar_fig = px.bar(df, x='country', y='latest_coverage', title='Top 10 Countries by Vaccine Coverage')\n",
    "    \n",
    "    return table, dcc.Graph(figure=bar_fig)\n",
    "\n",
    "if __name__ == '__main__':\n",
    "    app.run_server(debug=False)\n"
   ]
  },
  {
   "cell_type": "code",
   "execution_count": null,
   "id": "469000fa",
   "metadata": {},
   "outputs": [],
   "source": []
  }
 ],
 "metadata": {
  "kernelspec": {
   "display_name": "Python 3 (ipykernel)",
   "language": "python",
   "name": "python3"
  },
  "language_info": {
   "codemirror_mode": {
    "name": "ipython",
    "version": 3
   },
   "file_extension": ".py",
   "mimetype": "text/x-python",
   "name": "python",
   "nbconvert_exporter": "python",
   "pygments_lexer": "ipython3",
   "version": "3.11.7"
  }
 },
 "nbformat": 4,
 "nbformat_minor": 5
}
